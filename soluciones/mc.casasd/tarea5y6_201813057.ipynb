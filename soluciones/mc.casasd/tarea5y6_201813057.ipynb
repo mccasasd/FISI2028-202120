{
 "cells": [
  {
   "cell_type": "markdown",
   "id": "c631950d",
   "metadata": {},
   "source": [
    "\n",
    " * Asignatura: Laboratorio Métodos Computacionales en Ciencias\n",
    " * Nombre: María Camila Casas Díaz\n",
    " * Código: 201813057\n"
   ]
  },
  {
   "cell_type": "code",
   "execution_count": 57,
   "id": "f9d282cc-eeed-48f9-b1f5-47c031fe6fba",
   "metadata": {},
   "outputs": [],
   "source": [
    "import numpy as np\n",
    "import scipy as sp\n",
    "import seaborn as sns; sns.set()\n",
    "\n",
    "from sympy.vector import CoordSys3D, gradient, divergence\n",
    "from sympy import Function, Symbol, pi, Eq, latex\n",
    "from matplotlib import pyplot as plt\n",
    "\n",
    "%matplotlib inline"
   ]
  },
  {
   "cell_type": "markdown",
   "id": "5593b87f-f69e-4a14-a8ce-a496073b8819",
   "metadata": {},
   "source": [
    "# Tarea 5 y 6: Ecuación de difusión en 3 dimensiones\n",
    "\n",
    "Uds se preguntarán, ¿por qué vamos a resolver la ecuación de difusión? La respuesta no es muy obvia, pero es interesante: Los procesos de difusión comparten algo muy bonito con los procesos estocásticos. Para ello, vamos a analizar un problema de COVID: el tiempo medio estimado de infección de los viriones.\n",
    "\n",
    "La transmisión de COVID se da preponderamente debido a la aspersión de aerosoles en el aire. Estas partículas *semi*-esféricas -cuyo orden de magnitud es de $\\sim1-10\\,\\mu m$ de radio- están compuestas principalmente por agua, lípidos orgánicos y viriones (se pueden considerar *quasi*-puntuales ya que son del orden de los $\\sim100\\,nm$). Cuando una particula del aerosol entra y se adhiere al tracto respiratorio, el virus toma un tiempo en entrar en contacto con las células para infectar el huésped debido al movimiento Browniano. Los viriones, a diferencia de las bacterias, no cuentan con cilios, flagelos u otros mecanismos para desplazarse en los medios, por lo cual, su única esperanza es que por fluctuaciones térmicas puedan llegar a la superficie de la gota de aerosol para replicar su ADN al entrar en contacto con los tejidos susceptibles. Este proceso es en esencia estocástico y se puede modelar mediante la ecuación de Difusión. Esta ecuación tiene dos partes. La idea es que uds resuelvan el problema de la manera más sencilla. La ecuación es la siguiente,\n",
    "$$\n",
    "\\frac{\\partial\\Psi}{\\partial t}=D\\nabla^2\\Psi,\n",
    "$$\n",
    "donde $D$ es la constante de difusión del medio y $\\Psi$ es la concentración de partículas. La taza de difusión depende de la temperatura y la viscosidad del medio y se puede modelar usando la relación de Einstein-Stokes,\n",
    "$$\n",
    "D=\\frac{k_BT}{6\\pi\\eta a},\n",
    "$$\n",
    "siendo $k_B$ la constante de Boltzmann, $T$ la temperatura en grados Kelvin, $\\eta$ la viscosidad del medio y $a$ el radio de los viriones. En esencia, lo que la ecuación de difusión me está diciendo es que la concentración media de viriones depende de la posición y el tiempo. No obstante, para poder calcular el tiempo que tardaría un virión en alcanzar la superficie se puede modelar en la media usando la siguiente ecuación de difusión,\n",
    "$$\n",
    "-\\nabla^2\\tau=\\frac{1}{D},\n",
    "$$\n",
    "donde $\\tau$ es el tiempo medio que dependería de la posición en la que se encuentra inicialmente."
   ]
  },
  {
   "cell_type": "markdown",
   "id": "6d059ea9-92b0-4849-8ef4-3db1b7f7ec20",
   "metadata": {},
   "source": [
    "## 1. Escriba la ecuación de difusión para el tiempo $\\tau$ en coordenadas esféricas y asuma que $\\tau(r,\\theta,\\phi)\\simeq\\tau(r)$ ya que por simetría esférica sólo dependerá de la posición radial respecto al centro de la gotica (Usar **LaTex**)"
   ]
  },
  {
   "cell_type": "code",
   "execution_count": 58,
   "id": "6e9ad161",
   "metadata": {},
   "outputs": [
    {
     "data": {
      "text/latex": [
       "$\\displaystyle \\frac{d^{2}}{d \\mathbf{{r}_{S}}^{2}} \\tau{\\left(\\mathbf{{r}_{S}} \\right)} + \\frac{2 \\frac{d}{d \\mathbf{{r}_{S}}} \\tau{\\left(\\mathbf{{r}_{S}} \\right)}}{\\mathbf{{r}_{S}}} = \\frac{6 \\pi a \\eta}{T k_{B}}$"
      ],
      "text/plain": [
       "Eq(Derivative(tau(S.r), (S.r, 2)) + 2*Derivative(tau(S.r), S.r)/S.r, 6*pi*a*eta/(T*k_{B}))"
      ]
     },
     "execution_count": 58,
     "metadata": {},
     "output_type": "execute_result"
    }
   ],
   "source": [
    "# Cambio a coordenadas esféricas\n",
    "Spherical = CoordSys3D(\"S\",transformation='spherical')\n",
    "\n",
    "# Establecemos las variables\n",
    "kB = Symbol(\"k_{B}\")\n",
    "T = Symbol(\"T\")\n",
    "eta = Symbol(\"eta\")\n",
    "a = Symbol(\"a\")\n",
    "r = Symbol(\"r\")\n",
    "R = Symbol(\"R\")\n",
    "\n",
    "# Establecemos la constante de difusión del medio D\n",
    "D = (kB*T)/(6*pi*eta*a)\n",
    "\n",
    "# Establecemos el Volumen V\n",
    "V = 4/3*pi*R**3\n",
    "\n",
    "# Establecemos Tau\n",
    "tau = Function(\"tau\")\n",
    "\n",
    "eDifusion = Eq(divergence(gradient(tau(Spherical.r))).simplify(),1/D)\n",
    "eDifusion"
   ]
  },
  {
   "cell_type": "code",
   "execution_count": 59,
   "id": "45f491e5",
   "metadata": {},
   "outputs": [
    {
     "name": "stdout",
     "output_type": "stream",
     "text": [
      "\\frac{d^{2}}{d \\mathbf{{r}_{S}}^{2}} \\tau{\\left(\\mathbf{{r}_{S}} \\right)} + \\frac{2 \\frac{d}{d \\mathbf{{r}_{S}}} \\tau{\\left(\\mathbf{{r}_{S}} \\right)}}{\\mathbf{{r}_{S}}} = \\frac{6 \\pi a \\eta}{T k_{B}}\n"
     ]
    }
   ],
   "source": [
    "# Imprimimos en Latex utilizando Sympy\n",
    "print(latex(eDifusion))"
   ]
  },
  {
   "cell_type": "markdown",
   "id": "3f4121f6-7e73-4320-96c6-0a08b5e07dbe",
   "metadata": {},
   "source": [
    "## 2. Resuelva la ecuación diferencial para el tiempo de forma numérica y grafique\n",
    "\n",
    "Asuma las siguientes condiciones iniciales:\n",
    "1. $\\tau(R)=0$ ya que si el virión está en la superficie el tiempo debe ser naturalmente nulo.\n",
    "1. $\\tau^\\prime(r)=0$ ya que por simetría la derivada radial debe ser nula en el origen\n",
    "\n",
    "Suponga las siguientes condiciones:\n",
    "- $R=5\\mu m$ para el radio de la esfera de *quasi* agua (calcula el volumen $V$)\n",
    "- $\\eta_{\\text{H}_2\\text{O}}\\simeq1\\times10^{-3}\\,Pa\\cdot s$ (Pascales por segundo)\n",
    "- $\\frac{\\eta}{\\eta_{\\text{H}_2\\text{O}}}\\approx10^3\\to10^5$\n",
    "- $a\\simeq100\\,nm$\n",
    "- $V=\\frac{4}{3}\\pi a^3$\n",
    "- $k_BT\\simeq4.05\\times10^{-21}J$"
   ]
  },
  {
   "cell_type": "code",
   "execution_count": 60,
   "id": "d8f300c6-fde1-4bcc-9f30-dab09726f15d",
   "metadata": {},
   "outputs": [
    {
     "data": {
      "text/plain": [
       "Text(0, 0.5, '$\\\\tau$(R)')"
      ]
     },
     "execution_count": 60,
     "metadata": {},
     "output_type": "execute_result"
    },
    {
     "data": {
      "image/png": "[encoded data removed]",
      "text/plain": [
       "<Figure size 432x288 with 1 Axes>"
      ]
     },
     "metadata": {
      "needs_background": "light"
     },
     "output_type": "display_data"
    }
   ],
   "source": [
    "# Escribimos las condiciones:\n",
    "R = 5e-6\n",
    "eta_h2o = 1e-3\n",
    "a = 1e-7\n",
    "kBT = 4.05e-21\n",
    "\n",
    "# Calculamos el Volumen V\n",
    "V = (4/3)*np.pi*(R**3)\n",
    "\n",
    "# Calculamos la constante de difusión del medio D\n",
    "D = kBT/(6*np.pi*eta_h2o*a)\n",
    "\n",
    "# Calculamos la funcion\n",
    "def fun(r,tau_v):\n",
    "    tau,dtau = tau_v\n",
    "    return np.array([dtau,-2*dtau/r-1/D])\n",
    "    \n",
    "# Calculamos la funcion\n",
    "def bc(tau_R,tau_r):\n",
    "    return np.array([tau_R[0], tau_r[0]])\n",
    "    \n",
    "x = np.linspace(1e-12,R)\n",
    "y = np.zeros((2,x.size))\n",
    "\n",
    "# solver\n",
    "sol = sp.integrate.solve_bvp(fun,bc,x,y)\n",
    "\n",
    "# limites\n",
    "\n",
    "xp = sol.x\n",
    "yp = sol.sol(xp)[0]\n",
    "\n",
    "# Graficar\n",
    "plt.plot(xp,yp)\n",
    "plt.xlabel(\"R(m)\")\n",
    "plt.ylabel(\"$\\\\tau$(R)\")\n"
   ]
  },
  {
   "cell_type": "markdown",
   "id": "a934f471-0cca-4297-91ff-cc29afb6b45f",
   "metadata": {},
   "source": [
    "## 3. Si los viriones están distribuidos uniformemente, encuentre el tiempo que tardaría un virión en salir de la gota de aerosol.\n",
    "\n",
    "Tenga presente que debe promediar suponiendo que el virión tiene una distribución uniforme, i.e. $\\rho\\left(\\vec{r}\\right)=1/V$, usando la siguiente relación,\n",
    "$$\n",
    "\\bar{\\tau} = \\int_{\\mathcal{V}}\\tau\\left(\\vec{r}\\right)\\rho\\left(\\vec{r}\\right)\\,\\text{d}\\vec{r} = \\frac{4\\pi}{V}\\int_{0}^{R}\\tau(r)\\,r^2\\text{d}r.\n",
    "$$\n",
    "Realice la integral numéricamente."
   ]
  },
  {
   "cell_type": "code",
   "execution_count": 61,
   "id": "13e514c8-d448-407e-99d5-44053f8fd581",
   "metadata": {},
   "outputs": [
    {
     "name": "stdout",
     "output_type": "stream",
     "text": [
      "La integral numérica es: (0.7757016957937449, 8.612018829109946e-15)\n"
     ]
    }
   ],
   "source": [
    "def tau(r):\n",
    "    return (4*np.pi/V) * sol.sol(r)[0]*r**2\n",
    "    \n",
    "print(\"La integral numérica es:\",sp.integrate.quad(tau,0,R))"
   ]
  },
  {
   "cell_type": "markdown",
   "id": "f46b5ef1-3bdb-4041-8d8f-74f63a3c0ea1",
   "metadata": {},
   "source": [
    "## 4. Las cadenas de Markov.\n",
    "\n",
    "Vamos a resolver el problema anterior usando un proceso de Markov. Suponga que ud **divide** la esfera en cubitos de ancho $\\delta x=\\delta y=\\delta z=\\Delta=R/N$ con $N$ un número determinado de particiones. Para nuestro experimento, vamos a suponer que ponemos un virión en una posición inicial $\\vec{r}_0=(\\Delta\\,j, 0, 0)$, determinada por un índice $j\\in\\{0,1,2,\\dots,N\\}$. Ud va a actualizar la posición del virión en la malla discreta siguiendo las reglas a continuación:\n",
    "- Determine el número de divisiones $N$ y calcule $\\Delta$."
   ]
  },
  {
   "cell_type": "code",
   "execution_count": 62,
   "id": "8e8402bc-e7cb-415b-9fa8-8acabcd26ca3",
   "metadata": {},
   "outputs": [],
   "source": [
    "N = 20 # Divisiones\n",
    "dx = R/N"
   ]
  },
  {
   "cell_type": "markdown",
   "id": "4582b910",
   "metadata": {},
   "source": [
    "- Ajuste la escala de tiempo $\\delta t$ tal que la probabilidad $\\alpha=D\\frac{\\delta t}{\\Delta^2}<\\frac{1}{6}$. (Recomendación $\\leq1/12$)"
   ]
  },
  {
   "cell_type": "code",
   "execution_count": 63,
   "id": "f193221c",
   "metadata": {},
   "outputs": [],
   "source": [
    "δt = (1/13)*(dx**2)/D # Ajustamos la escala de tiempo\n",
    "\n",
    "alpha = D*(δt/(dx**2)) # Probabilidad α \n",
    "\n",
    "assert alpha < 1/12 # Utilizamos la recomendación"
   ]
  },
  {
   "cell_type": "markdown",
   "id": "daa6c0fb",
   "metadata": {},
   "source": [
    "- Haga una corrida de Markov-Monte Carlo actualizando la posición con la probabilidad de transición $\\alpha$ hacia los primeros vecinos cercanos y calcule el número de pasos de tiempo para llegar a la superficie, i.e. $|\\vec{r}(t_m)|>R-\\Delta$ "
   ]
  },
  {
   "cell_type": "code",
   "execution_count": 64,
   "id": "e92439ab",
   "metadata": {},
   "outputs": [],
   "source": [
    "T = kBT\n",
    "x = np.arange(0,R,dx)\n",
    "\n",
    "dt = 1e-4\n",
    "t = np.arange(0,T,dt)\n",
    "\n"
   ]
  },
  {
   "cell_type": "markdown",
   "id": "88303f43",
   "metadata": {},
   "source": [
    "- Repita este experimento para la misma posición un gran número de veces para obtener una estadística (media y desviación estándar)."
   ]
  },
  {
   "cell_type": "code",
   "execution_count": null,
   "id": "ca33898a",
   "metadata": {},
   "outputs": [],
   "source": []
  },
  {
   "cell_type": "markdown",
   "id": "4582b910",
   "metadata": {},
   "source": [
    "- Repita todos los pasos para todos los índices $j\\in\\{0,1,2,\\dots,N\\}$ y grafique. ¡Compare con los resultados anteriores!"
   ]
  },
  {
   "cell_type": "markdown",
   "id": "7c45e596-7f05-4e91-9930-884635d3c14d",
   "metadata": {},
   "source": [
    "## 5. Diseñe un experimento para calcular el numeral (3) usando Markov-Monte Carlo"
   ]
  },
  {
   "cell_type": "code",
   "execution_count": null,
   "id": "57b92ff0-a866-4c82-ad60-ecb129a4e45b",
   "metadata": {},
   "outputs": [],
   "source": []
  }
 ],
 "metadata": {
  "interpreter": {
   "hash": "b8ea58ba7bc645faec393e8f2c6ffb7c83e496cb476d519a2a6361b4dcea70fb"
  },
  "kernelspec": {
   "display_name": "Python [conda env:fisi2028]",
   "language": "python",
   "name": "python3"
  },
  "language_info": {
   "codemirror_mode": {
    "name": "ipython",
    "version": 3
   },
   "file_extension": ".py",
   "mimetype": "text/x-python",
   "name": "python",
   "nbconvert_exporter": "python",
   "pygments_lexer": "ipython3",
   "version": "3.8.8"
  }
 },
 "nbformat": 4,
 "nbformat_minor": 5
}
